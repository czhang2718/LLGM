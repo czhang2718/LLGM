{
 "cells": [
  {
   "cell_type": "code",
   "execution_count": 1,
   "metadata": {},
   "outputs": [],
   "source": [
    "import requests"
   ]
  },
  {
   "cell_type": "code",
   "execution_count": 13,
   "metadata": {},
   "outputs": [],
   "source": [
    "def fetch_problems():\n",
    "    url = \"https://codeforces.com/api/problemset.problems\"\n",
    "    response = requests.get(url)\n",
    "    response.raise_for_status() \n",
    "    return response.json()\n",
    "\n",
    "def get_problems_sorted_by_submissions():\n",
    "    data = fetch_problems()\n",
    "    problems = data['result']['problems']\n",
    "    problem_stats = data['result']['problemStatistics']\n",
    "\n",
    "    # Combine problem details with their stats\n",
    "    problems_with_stats = []\n",
    "    for problem, stats in zip(problems, problem_stats):\n",
    "        problem_with_stats = {\n",
    "            'name': problem['name'],\n",
    "            'contestId': problem.get('contestId', None),\n",
    "            'index': problem['index'],\n",
    "            'submissions': stats['solvedCount']\n",
    "        }\n",
    "        problems_with_stats.append(problem_with_stats)\n",
    "\n",
    "    # Sort problems by the number of submissions in descending order\n",
    "    problems_sorted = sorted(problems_with_stats, key=lambda x: x['submissions'], reverse=True)\n",
    "    return problems_sorted\n",
    "\n",
    "def get_problems_sorted_by_accepted_submissions():\n",
    "    data = fetch_problems()\n",
    "    problems = data['result']['problems']\n",
    "    problem_stats = data['result']['problemStatistics']\n",
    "\n",
    "    # Combine problem details with their stats\n",
    "    problems_with_stats = []\n",
    "    for problem, stats in zip(problems, problem_stats):\n",
    "        problem_with_stats = {\n",
    "            'name': problem['name'],\n",
    "            'contestId': problem.get('contestId', None),\n",
    "            'index': problem['index'],\n",
    "            'accepted_submissions': stats['solvedCount'],\n",
    "            'rating': problem.get('rating', None)\n",
    "        }\n",
    "        problems_with_stats.append(problem_with_stats)\n",
    "    problems_sorted = sorted(problems_with_stats, key=lambda x: x['accepted_submissions'], reverse=True)\n",
    "    return problems_sorted"
   ]
  },
  {
   "cell_type": "code",
   "execution_count": 3,
   "metadata": {},
   "outputs": [
    {
     "name": "stdout",
     "output_type": "stream",
     "text": [
      "ContestId: 4, Index: A, Name: Watermelon, Submissions: 493738\n",
      "ContestId: 71, Index: A, Name: Way Too Long Words, Submissions: 363165\n",
      "ContestId: 231, Index: A, Name: Team, Submissions: 307146\n",
      "ContestId: 1, Index: A, Name: Theatre Square, Submissions: 250772\n",
      "ContestId: 282, Index: A, Name: Bit++, Submissions: 244424\n",
      "ContestId: 158, Index: A, Name: Next Round, Submissions: 237662\n",
      "ContestId: 50, Index: A, Name: Domino piling, Submissions: 234209\n",
      "ContestId: 263, Index: A, Name: Beautiful Matrix, Submissions: 231247\n",
      "ContestId: 112, Index: A, Name: Petya and Strings, Submissions: 214384\n",
      "ContestId: 339, Index: A, Name: Helpful Maths, Submissions: 203493\n"
     ]
    }
   ],
   "source": [
    "problems_sorted = get_problems_sorted_by_submissions()\n",
    "for problem in problems_sorted[:10]:  # Display top 10 problems\n",
    "    print(f\"ContestId: {problem['contestId']}, Index: {problem['index']}, Name: {problem['name']}, Submissions: {problem['submissions']}\")"
   ]
  },
  {
   "cell_type": "code",
   "execution_count": 4,
   "metadata": {},
   "outputs": [],
   "source": [
    "data = fetch_problems()\n",
    "problems = data['result']['problems']\n",
    "problem_stats = data['result']['problemStatistics']"
   ]
  },
  {
   "cell_type": "code",
   "execution_count": 5,
   "metadata": {},
   "outputs": [
    {
     "data": {
      "text/plain": [
       "dict_keys(['status', 'result'])"
      ]
     },
     "execution_count": 5,
     "metadata": {},
     "output_type": "execute_result"
    }
   ],
   "source": [
    "data.keys()"
   ]
  },
  {
   "cell_type": "code",
   "execution_count": 6,
   "metadata": {},
   "outputs": [
    {
     "data": {
      "text/plain": [
       "dict_keys(['problems', 'problemStatistics'])"
      ]
     },
     "execution_count": 6,
     "metadata": {},
     "output_type": "execute_result"
    }
   ],
   "source": [
    "data['result'].keys()"
   ]
  },
  {
   "cell_type": "code",
   "execution_count": 7,
   "metadata": {},
   "outputs": [
    {
     "data": {
      "text/plain": [
       "9636"
      ]
     },
     "execution_count": 7,
     "metadata": {},
     "output_type": "execute_result"
    }
   ],
   "source": [
    "len(data['result']['problems'])"
   ]
  },
  {
   "cell_type": "code",
   "execution_count": 8,
   "metadata": {},
   "outputs": [
    {
     "data": {
      "text/plain": [
       "{'contestId': 1989,\n",
       " 'index': 'F',\n",
       " 'name': 'Simultaneous Coloring',\n",
       " 'type': 'PROGRAMMING',\n",
       " 'rating': 3000,\n",
       " 'tags': ['dfs and similar', 'divide and conquer', 'graphs']}"
      ]
     },
     "execution_count": 8,
     "metadata": {},
     "output_type": "execute_result"
    }
   ],
   "source": [
    "problems = data['result']['problems']\n",
    "problems[0]"
   ]
  },
  {
   "cell_type": "code",
   "execution_count": 9,
   "metadata": {},
   "outputs": [
    {
     "data": {
      "text/plain": [
       "{'contestId': 1989, 'index': 'F', 'solvedCount': 158}"
      ]
     },
     "execution_count": 9,
     "metadata": {},
     "output_type": "execute_result"
    }
   ],
   "source": [
    "stats = data['result']['problemStatistics']\n",
    "stats[0]"
   ]
  },
  {
   "cell_type": "code",
   "execution_count": 14,
   "metadata": {},
   "outputs": [
    {
     "name": "stdout",
     "output_type": "stream",
     "text": [
      "ContestId: 4, Index: A, Name: Watermelon, Accepted Submissions: 493739, Rating: 800\n",
      "ContestId: 71, Index: A, Name: Way Too Long Words, Accepted Submissions: 363165, Rating: 800\n",
      "ContestId: 231, Index: A, Name: Team, Accepted Submissions: 307146, Rating: 800\n",
      "ContestId: 1, Index: A, Name: Theatre Square, Accepted Submissions: 250772, Rating: 1000\n",
      "ContestId: 282, Index: A, Name: Bit++, Accepted Submissions: 244425, Rating: 800\n",
      "ContestId: 158, Index: A, Name: Next Round, Accepted Submissions: 237662, Rating: 800\n",
      "ContestId: 50, Index: A, Name: Domino piling, Accepted Submissions: 234209, Rating: 800\n",
      "ContestId: 263, Index: A, Name: Beautiful Matrix, Accepted Submissions: 231248, Rating: 800\n",
      "ContestId: 112, Index: A, Name: Petya and Strings, Accepted Submissions: 214384, Rating: 800\n",
      "ContestId: 339, Index: A, Name: Helpful Maths, Accepted Submissions: 203493, Rating: 800\n",
      "ContestId: 281, Index: A, Name: Word Capitalization, Accepted Submissions: 200978, Rating: 800\n",
      "ContestId: 236, Index: A, Name: Boy or Girl, Accepted Submissions: 198734, Rating: 800\n",
      "ContestId: 118, Index: A, Name: String Task, Accepted Submissions: 185087, Rating: 1000\n",
      "ContestId: 791, Index: A, Name: Bear and Big Brother, Accepted Submissions: 184103, Rating: 800\n",
      "ContestId: 266, Index: A, Name: Stones on the Table, Accepted Submissions: 182004, Rating: 800\n",
      "ContestId: 617, Index: A, Name: Elephant, Accepted Submissions: 174755, Rating: 800\n",
      "ContestId: 546, Index: A, Name: Soldier and Bananas, Accepted Submissions: 172115, Rating: 800\n",
      "ContestId: 59, Index: A, Name: Word, Accepted Submissions: 166476, Rating: 800\n",
      "ContestId: 977, Index: A, Name: Wrong Subtraction, Accepted Submissions: 159151, Rating: 800\n",
      "ContestId: 69, Index: A, Name: Young Physicist, Accepted Submissions: 158438, Rating: 1000\n",
      "ContestId: 96, Index: A, Name: Football, Accepted Submissions: 152222, Rating: 900\n",
      "ContestId: 110, Index: A, Name: Nearly Lucky Number, Accepted Submissions: 146521, Rating: 800\n",
      "ContestId: 734, Index: A, Name: Anton and Danik, Accepted Submissions: 144191, Rating: 800\n",
      "ContestId: 41, Index: A, Name: Translation, Accepted Submissions: 138437, Rating: 800\n",
      "ContestId: 116, Index: A, Name: Tram, Accepted Submissions: 135276, Rating: 800\n",
      "ContestId: 677, Index: A, Name: Vanya and Fence, Accepted Submissions: 134134, Rating: 800\n",
      "ContestId: 271, Index: A, Name: Beautiful Year, Accepted Submissions: 130894, Rating: 800\n",
      "ContestId: 266, Index: B, Name: Queue at the School, Accepted Submissions: 129569, Rating: 800\n",
      "ContestId: 58, Index: A, Name: Chat room, Accepted Submissions: 124812, Rating: 1000\n",
      "ContestId: 1030, Index: A, Name: In Search of an Easy Problem, Accepted Submissions: 123624, Rating: 800\n",
      "ContestId: 122, Index: A, Name: Lucky Division, Accepted Submissions: 118644, Rating: 1000\n",
      "ContestId: 467, Index: A, Name: George and Accommodation, Accepted Submissions: 116538, Rating: 800\n",
      "ContestId: 344, Index: A, Name: Magnets, Accepted Submissions: 114613, Rating: 800\n",
      "ContestId: 160, Index: A, Name: Twins, Accepted Submissions: 113155, Rating: 900\n",
      "ContestId: 486, Index: A, Name: Calculating Function, Accepted Submissions: 112223, Rating: 800\n",
      "ContestId: 136, Index: A, Name: Presents, Accepted Submissions: 112040, Rating: 800\n",
      "ContestId: 200, Index: B, Name: Drinks, Accepted Submissions: 110571, Rating: 800\n",
      "ContestId: 318, Index: A, Name: Even Odds, Accepted Submissions: 108803, Rating: 900\n",
      "ContestId: 61, Index: A, Name: Ultra-Fast Mathematician, Accepted Submissions: 106040, Rating: 800\n",
      "ContestId: 228, Index: A, Name: Is your horseshoe on the other hoof?, Accepted Submissions: 104680, Rating: 800\n",
      "ContestId: 133, Index: A, Name: HQ9+, Accepted Submissions: 101998, Rating: 900\n",
      "ContestId: 705, Index: A, Name: Hulk, Accepted Submissions: 101752, Rating: 800\n",
      "ContestId: 405, Index: A, Name: Gravity Flip, Accepted Submissions: 96777, Rating: 900\n",
      "ContestId: 1328, Index: A, Name: Divisibility Problem, Accepted Submissions: 96357, Rating: 800\n",
      "ContestId: 469, Index: A, Name: I Wanna Be the Guy, Accepted Submissions: 93517, Rating: 800\n",
      "ContestId: 520, Index: A, Name: Pangram, Accepted Submissions: 92222, Rating: 800\n",
      "ContestId: 144, Index: A, Name: Arrival of the General, Accepted Submissions: 91403, Rating: 800\n",
      "ContestId: 479, Index: A, Name: Expression, Accepted Submissions: 90715, Rating: 1000\n",
      "ContestId: 148, Index: A, Name: Insomnia cure, Accepted Submissions: 89052, Rating: 800\n",
      "ContestId: 996, Index: A, Name: Hit the Lottery, Accepted Submissions: 86490, Rating: 800\n",
      "ContestId: 443, Index: A, Name: Anton and Letters, Accepted Submissions: 85945, Rating: 800\n",
      "ContestId: 580, Index: A, Name: Kefa and First Steps, Accepted Submissions: 85531, Rating: 900\n",
      "ContestId: 208, Index: A, Name: Dubstep, Accepted Submissions: 85429, Rating: 900\n",
      "ContestId: 785, Index: A, Name: Anton and Polyhedrons, Accepted Submissions: 84659, Rating: 800\n",
      "ContestId: 158, Index: B, Name: Taxi, Accepted Submissions: 83980, Rating: 1100\n",
      "ContestId: 25, Index: A, Name: IQ test, Accepted Submissions: 82975, Rating: 1300\n",
      "ContestId: 268, Index: A, Name: Games, Accepted Submissions: 82922, Rating: 800\n",
      "ContestId: 131, Index: A, Name: cAPS lOCK, Accepted Submissions: 82915, Rating: 1000\n",
      "ContestId: 1335, Index: A, Name: Candies and Two Sisters, Accepted Submissions: 80897, Rating: 800\n",
      "ContestId: 141, Index: A, Name: Amusing Joke, Accepted Submissions: 79694, Rating: 800\n",
      "ContestId: 4, Index: C, Name: Registration System, Accepted Submissions: 79466, Rating: 1300\n",
      "ContestId: 510, Index: A, Name: Fox And Snake, Accepted Submissions: 79370, Rating: 800\n",
      "ContestId: 337, Index: A, Name: Puzzles, Accepted Submissions: 76975, Rating: 900\n",
      "ContestId: 230, Index: A, Name: Dragons, Accepted Submissions: 76072, Rating: 1000\n",
      "ContestId: 1352, Index: A, Name: Sum of Round Numbers, Accepted Submissions: 74853, Rating: 800\n",
      "ContestId: 427, Index: A, Name: Police Recruits, Accepted Submissions: 74397, Rating: 800\n",
      "ContestId: 723, Index: A, Name: The New Year: Meeting Friends, Accepted Submissions: 73441, Rating: 800\n",
      "ContestId: 492, Index: B, Name: Vanya and Lanterns, Accepted Submissions: 72758, Rating: 1200\n",
      "ContestId: 750, Index: A, Name: New Year and Hurry, Accepted Submissions: 72574, Rating: 800\n",
      "ContestId: 155, Index: A, Name: I_love_\\%username\\%, Accepted Submissions: 72254, Rating: 800\n",
      "ContestId: 230, Index: B, Name: T-primes, Accepted Submissions: 71905, Rating: 1300\n",
      "ContestId: 732, Index: A, Name: Buy a Shovel, Accepted Submissions: 69139, Rating: 800\n",
      "ContestId: 581, Index: A, Name: Vasya the Hipster, Accepted Submissions: 68652, Rating: 800\n",
      "ContestId: 151, Index: A, Name: Soft Drinking, Accepted Submissions: 68285, Rating: 800\n",
      "ContestId: 1154, Index: A, Name: Restoring Three Numbers, Accepted Submissions: 67985, Rating: 800\n",
      "ContestId: 339, Index: B, Name: Xenia and Ringroad, Accepted Submissions: 67733, Rating: 1000\n",
      "ContestId: 1742, Index: A, Name: Sum, Accepted Submissions: 67270, Rating: 800\n",
      "ContestId: 1703, Index: A, Name: YES or YES?, Accepted Submissions: 65208, Rating: 800\n",
      "ContestId: 1399, Index: A, Name: Remove Smallest, Accepted Submissions: 64204, Rating: 800\n",
      "ContestId: 189, Index: A, Name: Cut Ribbon, Accepted Submissions: 64089, Rating: 1300\n",
      "ContestId: 630, Index: A, Name: Again Twenty Five!, Accepted Submissions: 63993, Rating: 800\n",
      "ContestId: 1409, Index: A, Name: Yet Another Two Integers Problem, Accepted Submissions: 63914, Rating: 800\n",
      "ContestId: 451, Index: A, Name: Game With Sticks, Accepted Submissions: 63789, Rating: 900\n",
      "ContestId: 381, Index: A, Name: Sereja and Dima, Accepted Submissions: 62295, Rating: 800\n",
      "ContestId: 1692, Index: A, Name: Marathon, Accepted Submissions: 61858, Rating: 800\n",
      "ContestId: 1512, Index: A, Name: Spy Detected!, Accepted Submissions: 61447, Rating: 800\n",
      "ContestId: 466, Index: A, Name: Cheap Travel, Accepted Submissions: 60997, Rating: 1200\n",
      "ContestId: 32, Index: B, Name: Borze, Accepted Submissions: 60495, Rating: 800\n",
      "ContestId: 1676, Index: A, Name: Lucky?, Accepted Submissions: 60314, Rating: 800\n",
      "ContestId: 706, Index: B, Name: Interesting drink, Accepted Submissions: 60068, Rating: 1100\n",
      "ContestId: 1669, Index: A, Name: Division?, Accepted Submissions: 59277, Rating: 800\n",
      "ContestId: 758, Index: A, Name: Holiday Of Equality, Accepted Submissions: 58685, Rating: 800\n",
      "ContestId: 579, Index: A, Name: Raising Bacteria, Accepted Submissions: 58095, Rating: 1000\n",
      "ContestId: 472, Index: A, Name: Design Tutorial: Learn from Math, Accepted Submissions: 58080, Rating: 800\n",
      "ContestId: 1807, Index: A, Name: Plus or Minus, Accepted Submissions: 58022, Rating: 800\n",
      "ContestId: 432, Index: A, Name: Choosing Teams, Accepted Submissions: 57777, Rating: 800\n",
      "ContestId: 1560, Index: A, Name: Dislike of Threes, Accepted Submissions: 57328, Rating: 800\n",
      "ContestId: 1475, Index: A, Name: Odd Divisor, Accepted Submissions: 57280, Rating: 900\n",
      "ContestId: 1791, Index: A, Name: Codeforces Checking, Accepted Submissions: 57152, Rating: 800\n",
      "ContestId: 490, Index: A, Name: Team Olympiad, Accepted Submissions: 56932, Rating: 800\n"
     ]
    }
   ],
   "source": [
    "problems_sorted = get_problems_sorted_by_accepted_submissions()\n",
    "for problem in problems_sorted[:100]:  # Display top 10 problems\n",
    "    print(f\"ContestId: {problem['contestId']}, Index: {problem['index']}, Name: {problem['name']}, Accepted Submissions: {problem['accepted_submissions']}, Rating: {problem['rating']}\")"
   ]
  },
  {
   "cell_type": "code",
   "execution_count": 18,
   "metadata": {},
   "outputs": [],
   "source": [
    "problems = problems_sorted[:100]"
   ]
  },
  {
   "cell_type": "code",
   "execution_count": 15,
   "metadata": {},
   "outputs": [
    {
     "data": {
      "text/plain": [
       "list"
      ]
     },
     "execution_count": 15,
     "metadata": {},
     "output_type": "execute_result"
    }
   ],
   "source": [
    "type(problems)"
   ]
  },
  {
   "cell_type": "code",
   "execution_count": 16,
   "metadata": {},
   "outputs": [
    {
     "data": {
      "text/plain": [
       "dict"
      ]
     },
     "execution_count": 16,
     "metadata": {},
     "output_type": "execute_result"
    }
   ],
   "source": [
    "type(problems[0])"
   ]
  },
  {
   "cell_type": "code",
   "execution_count": 20,
   "metadata": {},
   "outputs": [
    {
     "data": {
      "text/plain": [
       "(array([72.,  0., 10.,  0., 10.,  0.,  2.,  0.,  2.,  4.]),\n",
       " array([ 800.,  850.,  900.,  950., 1000., 1050., 1100., 1150., 1200.,\n",
       "        1250., 1300.]),\n",
       " <BarContainer object of 10 artists>)"
      ]
     },
     "execution_count": 20,
     "metadata": {},
     "output_type": "execute_result"
    },
    {
     "data": {
      "image/png": "[encoded data removed]",
      "text/plain": [
       "<Figure size 640x480 with 1 Axes>"
      ]
     },
     "metadata": {},
     "output_type": "display_data"
    }
   ],
   "source": [
    "import matplotlib.pyplot as plt\n",
    "\n",
    "plt.hist([problem['rating'] for problem in problems if problem['rating'] is not None])"
   ]
  }
 ],
 "metadata": {
  "kernelspec": {
   "display_name": "Python 3",
   "language": "python",
   "name": "python3"
  },
  "language_info": {
   "codemirror_mode": {
    "name": "ipython",
    "version": 3
   },
   "file_extension": ".py",
   "mimetype": "text/x-python",
   "name": "python",
   "nbconvert_exporter": "python",
   "pygments_lexer": "ipython3",
   "version": "3.11.2"
  }
 },
 "nbformat": 4,
 "nbformat_minor": 2
}
