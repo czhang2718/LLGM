{
 "cells": [
  {
   "cell_type": "code",
   "execution_count": 1,
   "metadata": {},
   "outputs": [],
   "source": [
    "import requests"
   ]
  },
  {
   "cell_type": "code",
   "execution_count": 13,
   "metadata": {},
   "outputs": [],
   "source": [
    "def fetch_problems():\n",
    "    url = \"https://codeforces.com/api/problemset.problems\"\n",
    "    response = requests.get(url)\n",
    "    response.raise_for_status() \n",
    "    return response.json()\n",
    "\n",
    "def get_problems_sorted_by_submissions():\n",
    "    data = fetch_problems()\n",
    "    problems = data['result']['problems']\n",
    "    problem_stats = data['result']['problemStatistics']\n",
    "\n",
    "    # Combine problem details with their stats\n",
    "    problems_with_stats = []\n",
    "    for problem, stats in zip(problems, problem_stats):\n",
    "        problem_with_stats = {\n",
    "            'name': problem['name'],\n",
    "            'contestId': problem.get('contestId', None),\n",
    "            'index': problem['index'],\n",
    "            'submissions': stats['solvedCount']\n",
    "        }\n",
    "        problems_with_stats.append(problem_with_stats)\n",
    "\n",
    "    # Sort problems by the number of submissions in descending order\n",
    "    problems_sorted = sorted(problems_with_stats, key=lambda x: x['submissions'], reverse=True)\n",
    "    return problems_sorted\n",
    "\n",
    "def get_problems_sorted_by_accepted_submissions():\n",
    "    data = fetch_problems()\n",
    "    problems = data['result']['problems']\n",
    "    problem_stats = data['result']['problemStatistics']\n",
    "\n",
    "    # Combine problem details with their stats\n",
    "    problems_with_stats = []\n",
    "    for problem, stats in zip(problems, problem_stats):\n",
    "        problem_with_stats = {\n",
    "            'name': problem['name'],\n",
    "            'contestId': problem.get('contestId', None),\n",
    "            'index': problem['index'],\n",
    "            'accepted_submissions': stats['solvedCount'],\n",
    "            'rating': problem.get('rating', None)\n",
    "        }\n",
    "        problems_with_stats.append(problem_with_stats)\n",
    "    problems_sorted = sorted(problems_with_stats, key=lambda x: x['accepted_submissions'], reverse=True)\n",
    "    return problems_sorted"
   ]
  },
  {
   "cell_type": "code",
   "execution_count": 3,
   "metadata": {},
   "outputs": [
    {
     "name": "stdout",
     "output_type": "stream",
     "text": [
      "ContestId: 4, Index: A, Name: Watermelon, Submissions: 493738\n",
      "ContestId: 71, Index: A, Name: Way Too Long Words, Submissions: 363165\n",
      "ContestId: 231, Index: A, Name: Team, Submissions: 307146\n",
      "ContestId: 1, Index: A, Name: Theatre Square, Submissions: 250772\n",
      "ContestId: 282, Index: A, Name: Bit++, Submissions: 244424\n",
      "ContestId: 158, Index: A, Name: Next Round, Submissions: 237662\n",
      "ContestId: 50, Index: A, Name: Domino piling, Submissions: 234209\n",
      "ContestId: 263, Index: A, Name: Beautiful Matrix, Submissions: 231247\n",
      "ContestId: 112, Index: A, Name: Petya and Strings, Submissions: 214384\n",
      "ContestId: 339, Index: A, Name: Helpful Maths, Submissions: 203493\n"
     ]
    }
   ],
   "source": [
    "problems_sorted = get_problems_sorted_by_submissions()\n",
    "for problem in problems_sorted[:10]:  # Display top 10 problems\n",
    "    print(f\"ContestId: {problem['contestId']}, Index: {problem['index']}, Name: {problem['name']}, Submissions: {problem['submissions']}\")"
   ]
  },
  {
   "cell_type": "code",
   "execution_count": 4,
   "metadata": {},
   "outputs": [],
   "source": [
    "data = fetch_problems()\n",
    "problems = data['result']['problems']\n",
    "problem_stats = data['result']['problemStatistics']"
   ]
  },
  {
   "cell_type": "code",
   "execution_count": 5,
   "metadata": {},
   "outputs": [
    {
     "data": {
      "text/plain": [
       "dict_keys(['status', 'result'])"
      ]
     },
     "execution_count": 5,
     "metadata": {},
     "output_type": "execute_result"
    }
   ],
   "source": [
    "data.keys()"
   ]
  },
  {
   "cell_type": "code",
   "execution_count": 6,
   "metadata": {},
   "outputs": [
    {
     "data": {
      "text/plain": [
       "dict_keys(['problems', 'problemStatistics'])"
      ]
     },
     "execution_count": 6,
     "metadata": {},
     "output_type": "execute_result"
    }
   ],
   "source": [
    "data['result'].keys()"
   ]
  },
  {
   "cell_type": "code",
   "execution_count": 7,
   "metadata": {},
   "outputs": [
    {
     "data": {
      "text/plain": [
       "9636"
      ]
     },
     "execution_count": 7,
     "metadata": {},
     "output_type": "execute_result"
    }
   ],
   "source": [
    "len(data['result']['problems'])"
   ]
  },
  {
   "cell_type": "code",
   "execution_count": 8,
   "metadata": {},
   "outputs": [
    {
     "data": {
      "text/plain": [
       "{'contestId': 1989,\n",
       " 'index': 'F',\n",
       " 'name': 'Simultaneous Coloring',\n",
       " 'type': 'PROGRAMMING',\n",
       " 'rating': 3000,\n",
       " 'tags': ['dfs and similar', 'divide and conquer', 'graphs']}"
      ]
     },
     "execution_count": 8,
     "metadata": {},
     "output_type": "execute_result"
    }
   ],
   "source": [
    "problems = data['result']['problems']\n",
    "problems[0]"
   ]
  },
  {
   "cell_type": "code",
   "execution_count": 9,
   "metadata": {},
   "outputs": [
    {
     "data": {
      "text/plain": [
       "{'contestId': 1989, 'index': 'F', 'solvedCount': 158}"
      ]
     },
     "execution_count": 9,
     "metadata": {},
     "output_type": "execute_result"
    }
   ],
   "source": [
    "stats = data['result']['problemStatistics']\n",
    "stats[0]"
   ]
  },
  {
   "cell_type": "code",
   "execution_count": 14,
   "metadata": {},
   "outputs": [
    {
     "name": "stdout",
     "output_type": "stream",
     "text": [
      "ContestId: 4, Index: A, Name: Watermelon, Accepted Submissions: 493739, Rating: 800\n",
      "ContestId: 71, Index: A, Name: Way Too Long Words, Accepted Submissions: 363165, Rating: 800\n",
      "ContestId: 231, Index: A, Name: Team, Accepted Submissions: 307146, Rating: 800\n",
      "ContestId: 1, Index: A, Name: Theatre Square, Accepted Submissions: 250772, Rating: 1000\n",
      "ContestId: 282, Index: A, Name: Bit++, Accepted Submissions: 244425, Rating: 800\n",
      "ContestId: 158, Index: A, Name: Next Round, Accepted Submissions: 237662, Rating: 800\n",
      "ContestId: 50, Index: A, Name: Domino piling, Accepted Submissions: 234209, Rating: 800\n",
      "ContestId: 263, Index: A, Name: Beautiful Matrix, Accepted Submissions: 231248, Rating: 800\n",
      "ContestId: 112, Index: A, Name: Petya and Strings, Accepted Submissions: 214384, Rating: 800\n",
      "ContestId: 339, Index: A, Name: Helpful Maths, Accepted Submissions: 203493, Rating: 800\n",
      "ContestId: 281, Index: A, Name: Word Capitalization, Accepted Submissions: 200978, Rating: 800\n",
      "ContestId: 236, Index: A, Name: Boy or Girl, Accepted Submissions: 198734, Rating: 800\n",
      "ContestId: 118, Index: A, Name: String Task, Accepted Submissions: 185087, Rating: 1000\n",
      "ContestId: 791, Index: A, Name: Bear and Big Brother, Accepted Submissions: 184103, Rating: 800\n",
      "ContestId: 266, Index: A, Name: Stones on the Table, Accepted Submissions: 182004, Rating: 800\n",
      "ContestId: 617, Index: A, Name: Elephant, Accepted Submissions: 174755, Rating: 800\n",
      "ContestId: 546, Index: A, Name: Soldier and Bananas, Accepted Submissions: 172115, Rating: 800\n",
      "ContestId: 59, Index: A, Name: Word, Accepted Submissions: 166476, Rating: 800\n",
      "ContestId: 977, Index: A, Name: Wrong Subtraction, Accepted Submissions: 159151, Rating: 800\n",
      "ContestId: 69, Index: A, Name: Young Physicist, Accepted Submissions: 158438, Rating: 1000\n",
      "ContestId: 96, Index: A, Name: Football, Accepted Submissions: 152222, Rating: 900\n",
      "ContestId: 110, Index: A, Name: Nearly Lucky Number, Accepted Submissions: 146521, Rating: 800\n",
      "ContestId: 734, Index: A, Name: Anton and Danik, Accepted Submissions: 144191, Rating: 800\n",
      "ContestId: 41, Index: A, Name: Translation, Accepted Submissions: 138437, Rating: 800\n",
      "ContestId: 116, Index: A, Name: Tram, Accepted Submissions: 135276, Rating: 800\n",
      "ContestId: 677, Index: A, Name: Vanya and Fence, Accepted Submissions: 134134, Rating: 800\n",
      "ContestId: 271, Index: A, Name: Beautiful Year, Accepted Submissions: 130894, Rating: 800\n",
      "ContestId: 266, Index: B, Name: Queue at the School, Accepted Submissions: 129569, Rating: 800\n",
      "ContestId: 58, Index: A, Name: Chat room, Accepted Submissions: 124812, Rating: 1000\n",
      "ContestId: 1030, Index: A, Name: In Search of an Easy Problem, Accepted Submissions: 123624, Rating: 800\n",
      "ContestId: 122, Index: A, Name: Lucky Division, Accepted Submissions: 118644, Rating: 1000\n",
      "ContestId: 467, Index: A, Name: George and Accommodation, Accepted Submissions: 116538, Rating: 800\n",
      "ContestId: 344, Index: A, Name: Magnets, Accepted Submissions: 114613, Rating: 800\n",
      "ContestId: 160, Index: A, Name: Twins, Accepted Submissions: 113155, Rating: 900\n",
      "ContestId: 486, Index: A, Name: Calculating Function, Accepted Submissions: 112223, Rating: 800\n",
      "ContestId: 136, Index: A, Name: Presents, Accepted Submissions: 112040, Rating: 800\n",
      "ContestId: 200, Index: B, Name: Drinks, Accepted Submissions: 110571, Rating: 800\n",
      "ContestId: 318, Index: A, Name: Even Odds, Accepted Submissions: 108803, Rating: 900\n",
      "ContestId: 61, Index: A, Name: Ultra-Fast Mathematician, Accepted Submissions: 106040, Rating: 800\n",
      "ContestId: 228, Index: A, Name: Is your horseshoe on the other hoof?, Accepted Submissions: 104680, Rating: 800\n",
      "ContestId: 133, Index: A, Name: HQ9+, Accepted Submissions: 101998, Rating: 900\n",
      "ContestId: 705, Index: A, Name: Hulk, Accepted Submissions: 101752, Rating: 800\n",
      "ContestId: 405, Index: A, Name: Gravity Flip, Accepted Submissions: 96777, Rating: 900\n",
      "ContestId: 1328, Index: A, Name: Divisibility Problem, Accepted Submissions: 96357, Rating: 800\n",
      "ContestId: 469, Index: A, Name: I Wanna Be the Guy, Accepted Submissions: 93517, Rating: 800\n",
      "ContestId: 520, Index: A, Name: Pangram, Accepted Submissions: 92222, Rating: 800\n",
      "ContestId: 144, Index: A, Name: Arrival of the General, Accepted Submissions: 91403, Rating: 800\n",
      "ContestId: 479, Index: A, Name: Expression, Accepted Submissions: 90715, Rating: 1000\n",
      "ContestId: 148, Index: A, Name: Insomnia cure, Accepted Submissions: 89052, Rating: 800\n",
      "ContestId: 996, Index: A, Name: Hit the Lottery, Accepted Submissions: 86490, Rating: 800\n",
      "ContestId: 443, Index: A, Name: Anton and Letters, Accepted Submissions: 85945, Rating: 800\n",
      "ContestId: 580, Index: A, Name: Kefa and First Steps, Accepted Submissions: 85531, Rating: 900\n",
      "ContestId: 208, Index: A, Name: Dubstep, Accepted Submissions: 85429, Rating: 900\n",
      "ContestId: 785, Index: A, Name: Anton and Polyhedrons, Accepted Submissions: 84659, Rating: 800\n",
      "ContestId: 158, Index: B, Name: Taxi, Accepted Submissions: 83980, Rating: 1100\n",
      "ContestId: 25, Index: A, Name: IQ test, Accepted Submissions: 82975, Rating: 1300\n",
      "ContestId: 268, Index: A, Name: Games, Accepted Submissions: 82922, Rating: 800\n",
      "ContestId: 131, Index: A, Name: cAPS lOCK, Accepted Submissions: 82915, Rating: 1000\n",
      "ContestId: 1335, Index: A, Name: Candies and Two Sisters, Accepted Submissions: 80897, Rating: 800\n",
      "ContestId: 141, Index: A, Name: Amusing Joke, Accepted Submissions: 79694, Rating: 800\n",
      "ContestId: 4, Index: C, Name: Registration System, Accepted Submissions: 79466, Rating: 1300\n",
      "ContestId: 510, Index: A, Name: Fox And Snake, Accepted Submissions: 79370, Rating: 800\n",
      "ContestId: 337, Index: A, Name: Puzzles, Accepted Submissions: 76975, Rating: 900\n",
      "ContestId: 230, Index: A, Name: Dragons, Accepted Submissions: 76072, Rating: 1000\n",
      "ContestId: 1352, Index: A, Name: Sum of Round Numbers, Accepted Submissions: 74853, Rating: 800\n",
      "ContestId: 427, Index: A, Name: Police Recruits, Accepted Submissions: 74397, Rating: 800\n",
      "ContestId: 723, Index: A, Name: The New Year: Meeting Friends, Accepted Submissions: 73441, Rating: 800\n",
      "ContestId: 492, Index: B, Name: Vanya and Lanterns, Accepted Submissions: 72758, Rating: 1200\n",
      "ContestId: 750, Index: A, Name: New Year and Hurry, Accepted Submissions: 72574, Rating: 800\n",
      "ContestId: 155, Index: A, Name: I_love_\\%username\\%, Accepted Submissions: 72254, Rating: 800\n",
      "ContestId: 230, Index: B, Name: T-primes, Accepted Submissions: 71905, Rating: 1300\n",
      "ContestId: 732, Index: A, Name: Buy a Shovel, Accepted Submissions: 69139, Rating: 800\n",
      "ContestId: 581, Index: A, Name: Vasya the Hipster, Accepted Submissions: 68652, Rating: 800\n",
      "ContestId: 151, Index: A, Name: Soft Drinking, Accepted Submissions: 68285, Rating: 800\n",
      "ContestId: 1154, Index: A, Name: Restoring Three Numbers, Accepted Submissions: 67985, Rating: 800\n",
      "ContestId: 339, Index: B, Name: Xenia and Ringroad, Accepted Submissions: 67733, Rating: 1000\n",
      "ContestId: 1742, Index: A, Name: Sum, Accepted Submissions: 67270, Rating: 800\n",
      "ContestId: 1703, Index: A, Name: YES or YES?, Accepted Submissions: 65208, Rating: 800\n",
      "ContestId: 1399, Index: A, Name: Remove Smallest, Accepted Submissions: 64204, Rating: 800\n",
      "ContestId: 189, Index: A, Name: Cut Ribbon, Accepted Submissions: 64089, Rating: 1300\n",
      "ContestId: 630, Index: A, Name: Again Twenty Five!, Accepted Submissions: 63993, Rating: 800\n",
      "ContestId: 1409, Index: A, Name: Yet Another Two Integers Problem, Accepted Submissions: 63914, Rating: 800\n",
      "ContestId: 451, Index: A, Name: Game With Sticks, Accepted Submissions: 63789, Rating: 900\n",
      "ContestId: 381, Index: A, Name: Sereja and Dima, Accepted Submissions: 62295, Rating: 800\n",
      "ContestId: 1692, Index: A, Name: Marathon, Accepted Submissions: 61858, Rating: 800\n",
      "ContestId: 1512, Index: A, Name: Spy Detected!, Accepted Submissions: 61447, Rating: 800\n",
      "ContestId: 466, Index: A, Name: Cheap Travel, Accepted Submissions: 60997, Rating: 1200\n",
      "ContestId: 32, Index: B, Name: Borze, Accepted Submissions: 60495, Rating: 800\n",
      "ContestId: 1676, Index: A, Name: Lucky?, Accepted Submissions: 60314, Rating: 800\n",
      "ContestId: 706, Index: B, Name: Interesting drink, Accepted Submissions: 60068, Rating: 1100\n",
      "ContestId: 1669, Index: A, Name: Division?, Accepted Submissions: 59277, Rating: 800\n",
      "ContestId: 758, Index: A, Name: Holiday Of Equality, Accepted Submissions: 58685, Rating: 800\n",
      "ContestId: 579, Index: A, Name: Raising Bacteria, Accepted Submissions: 58095, Rating: 1000\n",
      "ContestId: 472, Index: A, Name: Design Tutorial: Learn from Math, Accepted Submissions: 58080, Rating: 800\n",
      "ContestId: 1807, Index: A, Name: Plus or Minus, Accepted Submissions: 58022, Rating: 800\n",
      "ContestId: 432, Index: A, Name: Choosing Teams, Accepted Submissions: 57777, Rating: 800\n",
      "ContestId: 1560, Index: A, Name: Dislike of Threes, Accepted Submissions: 57328, Rating: 800\n",
      "ContestId: 1475, Index: A, Name: Odd Divisor, Accepted Submissions: 57280, Rating: 900\n",
      "ContestId: 1791, Index: A, Name: Codeforces Checking, Accepted Submissions: 57152, Rating: 800\n",
      "ContestId: 490, Index: A, Name: Team Olympiad, Accepted Submissions: 56932, Rating: 800\n"
     ]
    }
   ],
   "source": [
    "problems_sorted = get_problems_sorted_by_accepted_submissions()\n",
    "for problem in problems_sorted[:100]:  # Display top 10 problems\n",
    "    print(f\"ContestId: {problem['contestId']}, Index: {problem['index']}, Name: {problem['name']}, Accepted Submissions: {problem['accepted_submissions']}, Rating: {problem['rating']}\")"
   ]
  },
  {
   "cell_type": "code",
   "execution_count": 18,
   "metadata": {},
   "outputs": [],
   "source": [
    "problems = problems_sorted[:100]"
   ]
  },
  {
   "cell_type": "code",
   "execution_count": 15,
   "metadata": {},
   "outputs": [
    {
     "data": {
      "text/plain": [
       "list"
      ]
     },
     "execution_count": 15,
     "metadata": {},
     "output_type": "execute_result"
    }
   ],
   "source": [
    "type(problems)"
   ]
  },
  {
   "cell_type": "code",
   "execution_count": 16,
   "metadata": {},
   "outputs": [
    {
     "data": {
      "text/plain": [
       "dict"
      ]
     },
     "execution_count": 16,
     "metadata": {},
     "output_type": "execute_result"
    }
   ],
   "source": [
    "type(problems[0])"
   ]
  },
  {
   "cell_type": "code",
   "execution_count": 20,
   "metadata": {},
   "outputs": [
    {
     "data": {
      "text/plain": [
       "(array([72.,  0., 10.,  0., 10.,  0.,  2.,  0.,  2.,  4.]),\n",
       " array([ 800.,  850.,  900.,  950., 1000., 1050., 1100., 1150., 1200.,\n",
       "        1250., 1300.]),\n",
       " <BarContainer object of 10 artists>)"
      ]
     },
     "execution_count": 20,
     "metadata": {},
     "output_type": "execute_result"
    },
    {
     "data": {
      "image/png": "[encoded data removed]",
      "text/plain": [
       "<Figure size 640x480 with 1 Axes>"
      ]
     },
     "metadata": {},
     "output_type": "display_data"
    }
   ],
   "source": [
    "import matplotlib.pyplot as plt\n",
    "\n",
    "plt.hist([problem['rating'] for problem in problems if problem['rating'] is not None])"
   ]
  },
  {
   "cell_type": "markdown",
   "metadata": {},
   "source": [
    "Fewer low rated problems"
   ]
  },
  {
   "cell_type": "code",
   "execution_count": 21,
   "metadata": {},
   "outputs": [],
   "source": [
    "data = fetch_problems()\n",
    "problems = data['result']['problems']\n",
    "problem_stats = data['result']['problemStatistics']\n",
    "\n",
    "# Combine problem details with their stats\n",
    "problems_with_stats = []\n",
    "for problem, stats in zip(problems, problem_stats):\n",
    "    problem_with_stats = {\n",
    "        'name': problem['name'],\n",
    "        'contestId': problem.get('contestId', None),\n",
    "        'index': problem['index'],\n",
    "        'accepted_submissions': stats['solvedCount'],\n",
    "        'rating': problem.get('rating', None)\n",
    "    }\n",
    "    problems_with_stats.append(problem_with_stats)\n",
    "problems_sorted = sorted(problems_with_stats, key=lambda x: x['accepted_submissions'], reverse=True)"
   ]
  },
  {
   "cell_type": "code",
   "execution_count": 31,
   "metadata": {},
   "outputs": [
    {
     "name": "stdout",
     "output_type": "stream",
     "text": [
      "{'name': 'Watermelon', 'contestId': 4, 'index': 'A', 'accepted_submissions': 493739, 'rating': 800}\n",
      "{'name': 'Way Too Long Words', 'contestId': 71, 'index': 'A', 'accepted_submissions': 363165, 'rating': 800}\n",
      "{'name': 'Team', 'contestId': 231, 'index': 'A', 'accepted_submissions': 307147, 'rating': 800}\n",
      "{'name': 'Theatre Square', 'contestId': 1, 'index': 'A', 'accepted_submissions': 250772, 'rating': 1000}\n",
      "{'name': 'Bit++', 'contestId': 282, 'index': 'A', 'accepted_submissions': 244426, 'rating': 800}\n",
      "{'name': 'Next Round', 'contestId': 158, 'index': 'A', 'accepted_submissions': 237662, 'rating': 800}\n",
      "{'name': 'Domino piling', 'contestId': 50, 'index': 'A', 'accepted_submissions': 234210, 'rating': 800}\n",
      "{'name': 'Beautiful Matrix', 'contestId': 263, 'index': 'A', 'accepted_submissions': 231248, 'rating': 800}\n",
      "{'name': 'Petya and Strings', 'contestId': 112, 'index': 'A', 'accepted_submissions': 214384, 'rating': 800}\n",
      "{'name': 'Helpful Maths', 'contestId': 339, 'index': 'A', 'accepted_submissions': 203493, 'rating': 800}\n",
      "{'name': 'Word Capitalization', 'contestId': 281, 'index': 'A', 'accepted_submissions': 200978, 'rating': 800}\n",
      "{'name': 'Boy or Girl', 'contestId': 236, 'index': 'A', 'accepted_submissions': 198735, 'rating': 800}\n",
      "{'name': 'String Task', 'contestId': 118, 'index': 'A', 'accepted_submissions': 185087, 'rating': 1000}\n",
      "{'name': 'Bear and Big Brother', 'contestId': 791, 'index': 'A', 'accepted_submissions': 184103, 'rating': 800}\n",
      "{'name': 'Stones on the Table', 'contestId': 266, 'index': 'A', 'accepted_submissions': 182004, 'rating': 800}\n",
      "{'name': 'Elephant', 'contestId': 617, 'index': 'A', 'accepted_submissions': 174755, 'rating': 800}\n",
      "{'name': 'Soldier and Bananas', 'contestId': 546, 'index': 'A', 'accepted_submissions': 172115, 'rating': 800}\n",
      "{'name': 'Word', 'contestId': 59, 'index': 'A', 'accepted_submissions': 166476, 'rating': 800}\n",
      "{'name': 'Wrong Subtraction', 'contestId': 977, 'index': 'A', 'accepted_submissions': 159151, 'rating': 800}\n",
      "{'name': 'Young Physicist', 'contestId': 69, 'index': 'A', 'accepted_submissions': 158438, 'rating': 1000}\n",
      "{'name': 'Football', 'contestId': 96, 'index': 'A', 'accepted_submissions': 152223, 'rating': 900}\n",
      "{'name': 'Nearly Lucky Number', 'contestId': 110, 'index': 'A', 'accepted_submissions': 146521, 'rating': 800}\n",
      "{'name': 'Anton and Danik', 'contestId': 734, 'index': 'A', 'accepted_submissions': 144191, 'rating': 800}\n",
      "{'name': 'Translation', 'contestId': 41, 'index': 'A', 'accepted_submissions': 138437, 'rating': 800}\n",
      "{'name': 'Tram', 'contestId': 116, 'index': 'A', 'accepted_submissions': 135276, 'rating': 800}\n",
      "{'name': 'Chat room', 'contestId': 58, 'index': 'A', 'accepted_submissions': 124812, 'rating': 1000}\n",
      "{'name': 'Lucky Division', 'contestId': 122, 'index': 'A', 'accepted_submissions': 118644, 'rating': 1000}\n",
      "{'name': 'Twins', 'contestId': 160, 'index': 'A', 'accepted_submissions': 113155, 'rating': 900}\n",
      "{'name': 'Even Odds', 'contestId': 318, 'index': 'A', 'accepted_submissions': 108803, 'rating': 900}\n",
      "{'name': 'HQ9+', 'contestId': 133, 'index': 'A', 'accepted_submissions': 101998, 'rating': 900}\n",
      "{'name': 'Gravity Flip', 'contestId': 405, 'index': 'A', 'accepted_submissions': 96777, 'rating': 900}\n",
      "{'name': 'Expression', 'contestId': 479, 'index': 'A', 'accepted_submissions': 90715, 'rating': 1000}\n",
      "{'name': 'Kefa and First Steps', 'contestId': 580, 'index': 'A', 'accepted_submissions': 85531, 'rating': 900}\n",
      "{'name': 'Dubstep', 'contestId': 208, 'index': 'A', 'accepted_submissions': 85429, 'rating': 900}\n",
      "{'name': 'Taxi', 'contestId': 158, 'index': 'B', 'accepted_submissions': 83980, 'rating': 1100}\n",
      "{'name': 'IQ test', 'contestId': 25, 'index': 'A', 'accepted_submissions': 82975, 'rating': 1300}\n",
      "{'name': 'cAPS lOCK', 'contestId': 131, 'index': 'A', 'accepted_submissions': 82916, 'rating': 1000}\n",
      "{'name': 'Registration System', 'contestId': 4, 'index': 'C', 'accepted_submissions': 79467, 'rating': 1300}\n",
      "{'name': 'Puzzles', 'contestId': 337, 'index': 'A', 'accepted_submissions': 76975, 'rating': 900}\n",
      "{'name': 'Dragons', 'contestId': 230, 'index': 'A', 'accepted_submissions': 76072, 'rating': 1000}\n",
      "{'name': 'Vanya and Lanterns', 'contestId': 492, 'index': 'B', 'accepted_submissions': 72758, 'rating': 1200}\n",
      "{'name': 'T-primes', 'contestId': 230, 'index': 'B', 'accepted_submissions': 71905, 'rating': 1300}\n",
      "{'name': 'Xenia and Ringroad', 'contestId': 339, 'index': 'B', 'accepted_submissions': 67733, 'rating': 1000}\n",
      "{'name': 'Cut Ribbon', 'contestId': 189, 'index': 'A', 'accepted_submissions': 64089, 'rating': 1300}\n",
      "{'name': 'Game With Sticks', 'contestId': 451, 'index': 'A', 'accepted_submissions': 63789, 'rating': 900}\n",
      "{'name': 'Cheap Travel', 'contestId': 466, 'index': 'A', 'accepted_submissions': 60997, 'rating': 1200}\n",
      "{'name': 'Interesting drink', 'contestId': 706, 'index': 'B', 'accepted_submissions': 60068, 'rating': 1100}\n",
      "{'name': 'Raising Bacteria', 'contestId': 579, 'index': 'A', 'accepted_submissions': 58095, 'rating': 1000}\n",
      "{'name': 'Odd Divisor', 'contestId': 1475, 'index': 'A', 'accepted_submissions': 57280, 'rating': 900}\n",
      "{'name': 'Boredom', 'contestId': 455, 'index': 'A', 'accepted_submissions': 55764, 'rating': 1500}\n",
      "{'name': 'Ilya and Bank Account', 'contestId': 313, 'index': 'A', 'accepted_submissions': 54562, 'rating': 900}\n",
      "{'name': 'Football', 'contestId': 43, 'index': 'A', 'accepted_submissions': 53685, 'rating': 1000}\n",
      "{'name': 'K-th Not Divisible by n', 'contestId': 1352, 'index': 'C', 'accepted_submissions': 51821, 'rating': 1200}\n",
      "{'name': 'New Year Transportation', 'contestId': 500, 'index': 'A', 'accepted_submissions': 51386, 'rating': 1000}\n",
      "{'name': 'Fence', 'contestId': 363, 'index': 'B', 'accepted_submissions': 50590, 'rating': 1100}\n",
      "{'name': 'Sale', 'contestId': 34, 'index': 'B', 'accepted_submissions': 49978, 'rating': 900}\n",
      "{'name': 'Books', 'contestId': 279, 'index': 'B', 'accepted_submissions': 49573, 'rating': 1400}\n",
      "{'name': 'Two Buttons', 'contestId': 520, 'index': 'B', 'accepted_submissions': 49012, 'rating': 1400}\n",
      "{'name': 'Chewbaсca and Number', 'contestId': 514, 'index': 'A', 'accepted_submissions': 48100, 'rating': 1200}\n",
      "{'name': 'BerSU Ball', 'contestId': 489, 'index': 'B', 'accepted_submissions': 47364, 'rating': 1200}\n",
      "{'name': 'Multiply by 2, divide by 6', 'contestId': 1374, 'index': 'B', 'accepted_submissions': 47357, 'rating': 900}\n",
      "{'name': \"New Year's Number\", 'contestId': 1475, 'index': 'B', 'accepted_submissions': 47322, 'rating': 900}\n",
      "{'name': 'Candies', 'contestId': 1343, 'index': 'A', 'accepted_submissions': 47051, 'rating': 900}\n",
      "{'name': 'Laptops', 'contestId': 456, 'index': 'A', 'accepted_submissions': 46434, 'rating': 1100}\n",
      "{'name': 'Worms', 'contestId': 474, 'index': 'B', 'accepted_submissions': 45959, 'rating': 1200}\n",
      "{'name': 'New Year Candles', 'contestId': 379, 'index': 'A', 'accepted_submissions': 45141, 'rating': 1000}\n",
      "{'name': 'Given Length and Sum of Digits...', 'contestId': 489, 'index': 'C', 'accepted_submissions': 45137, 'rating': 1400}\n",
      "{'name': 'Vasya and Socks', 'contestId': 460, 'index': 'A', 'accepted_submissions': 44833, 'rating': 900}\n",
      "{'name': 'Move Brackets', 'contestId': 1374, 'index': 'C', 'accepted_submissions': 44588, 'rating': 1000}\n",
      "{'name': 'Same Differences', 'contestId': 1520, 'index': 'D', 'accepted_submissions': 44424, 'rating': 1200}\n",
      "{'name': 'Fancy Fence', 'contestId': 270, 'index': 'A', 'accepted_submissions': 44147, 'rating': 1100}\n",
      "{'name': 'Sort the Array', 'contestId': 451, 'index': 'B', 'accepted_submissions': 43969, 'rating': 1300}\n",
      "{'name': 'Keyboard', 'contestId': 474, 'index': 'A', 'accepted_submissions': 43710, 'rating': 900}\n",
      "{'name': 'Olesya and Rodion', 'contestId': 584, 'index': 'A', 'accepted_submissions': 43684, 'rating': 1000}\n",
      "{'name': 'Ilya and Queries', 'contestId': 313, 'index': 'B', 'accepted_submissions': 42331, 'rating': 1100}\n",
      "{'name': 'Dreamoon and Stairs', 'contestId': 476, 'index': 'A', 'accepted_submissions': 42092, 'rating': 1000}\n",
      "{'name': 'Kefa and Park', 'contestId': 580, 'index': 'C', 'accepted_submissions': 40921, 'rating': 1500}\n",
      "{'name': 'Arpa’s hard exam and Mehrdad’s naive cheat', 'contestId': 742, 'index': 'A', 'accepted_submissions': 40830, 'rating': 1000}\n",
      "{'name': 'Flipping Game', 'contestId': 327, 'index': 'A', 'accepted_submissions': 40664, 'rating': 1200}\n",
      "{'name': 'Sereja and Suffixes', 'contestId': 368, 'index': 'B', 'accepted_submissions': 40154, 'rating': 1100}\n",
      "{'name': 'Road To Zero', 'contestId': 1342, 'index': 'A', 'accepted_submissions': 39282, 'rating': 1000}\n",
      "{'name': 'Pashmak and Flowers', 'contestId': 459, 'index': 'B', 'accepted_submissions': 39180, 'rating': 1300}\n",
      "{'name': 'Multiplication Table', 'contestId': 577, 'index': 'A', 'accepted_submissions': 38737, 'rating': 1000}\n",
      "{'name': 'Case of the Zeros and Ones', 'contestId': 556, 'index': 'A', 'accepted_submissions': 38567, 'rating': 900}\n",
      "{'name': 'Business trip', 'contestId': 149, 'index': 'A', 'accepted_submissions': 38475, 'rating': 900}\n",
      "{'name': 'A and B and Compilation Errors', 'contestId': 519, 'index': 'B', 'accepted_submissions': 38344, 'rating': 1100}\n",
      "{'name': 'Lecture', 'contestId': 499, 'index': 'B', 'accepted_submissions': 38146, 'rating': 1000}\n",
      "{'name': 'Sum of Odd Integers', 'contestId': 1327, 'index': 'A', 'accepted_submissions': 37744, 'rating': 1100}\n",
      "{'name': 'Two-gram', 'contestId': 977, 'index': 'B', 'accepted_submissions': 37740, 'rating': 900}\n",
      "{'name': 'Construct the String', 'contestId': 1335, 'index': 'B', 'accepted_submissions': 37669, 'rating': 900}\n",
      "{'name': \"Kuriyama Mirai's Stones\", 'contestId': 433, 'index': 'B', 'accepted_submissions': 37362, 'rating': 1200}\n",
      "{'name': 'Alternating Subsequence', 'contestId': 1343, 'index': 'C', 'accepted_submissions': 37308, 'rating': 1200}\n",
      "{'name': 'The number of positions', 'contestId': 124, 'index': 'A', 'accepted_submissions': 36950, 'rating': 1000}\n",
      "{'name': 'Two Substrings', 'contestId': 550, 'index': 'A', 'accepted_submissions': 36893, 'rating': 1500}\n",
      "{'name': 'Fedor and New Game', 'contestId': 467, 'index': 'B', 'accepted_submissions': 36656, 'rating': 1100}\n",
      "{'name': 'Same Parity Summands', 'contestId': 1352, 'index': 'B', 'accepted_submissions': 36298, 'rating': 1200}\n",
      "{'name': 'Random Teams', 'contestId': 478, 'index': 'B', 'accepted_submissions': 35754, 'rating': 1300}\n",
      "{'name': 'Number of Ways', 'contestId': 466, 'index': 'C', 'accepted_submissions': 35101, 'rating': 1700}\n",
      "{'name': 'Odd Selection', 'contestId': 1363, 'index': 'A', 'accepted_submissions': 34923, 'rating': 1200}\n",
      "{'name': 'Two Teams Composing', 'contestId': 1335, 'index': 'C', 'accepted_submissions': 33905, 'rating': 1100}\n"
     ]
    }
   ],
   "source": [
    "from collections import defaultdict\n",
    "\n",
    "to_use = []\n",
    "cnt = defaultdict(int)\n",
    "\n",
    "for problem in problems_sorted:\n",
    "    if len(to_use)==100:\n",
    "        break\n",
    "    if cnt.get(problem['rating'], 0) > 20:\n",
    "        continue\n",
    "    to_use.append(problem)\n",
    "    print(problem)\n",
    "    cnt.update({problem['rating']: cnt.get(problem['rating'], 0)+1})"
   ]
  },
  {
   "cell_type": "code",
   "execution_count": 32,
   "metadata": {},
   "outputs": [
    {
     "data": {
      "text/plain": [
       "(array([21., 21., 21., 11., 12.,  7.,  3.,  3.,  0.,  1.]),\n",
       " array([ 800.,  890.,  980., 1070., 1160., 1250., 1340., 1430., 1520.,\n",
       "        1610., 1700.]),\n",
       " <BarContainer object of 10 artists>)"
      ]
     },
     "execution_count": 32,
     "metadata": {},
     "output_type": "execute_result"
    },
    {
     "data": {
      "image/png": "[encoded data removed]",
      "text/plain": [
       "<Figure size 640x480 with 1 Axes>"
      ]
     },
     "metadata": {},
     "output_type": "display_data"
    }
   ],
   "source": [
    "import matplotlib.pyplot as plt\n",
    "\n",
    "plt.hist([problem['rating'] for problem in to_use if problem['rating'] is not None])"
   ]
  }
 ],
 "metadata": {
  "kernelspec": {
   "display_name": "Python 3",
   "language": "python",
   "name": "python3"
  },
  "language_info": {
   "codemirror_mode": {
    "name": "ipython",
    "version": 3
   },
   "file_extension": ".py",
   "mimetype": "text/x-python",
   "name": "python",
   "nbconvert_exporter": "python",
   "pygments_lexer": "ipython3",
   "version": "3.11.2"
  }
 },
 "nbformat": 4,
 "nbformat_minor": 2
}
