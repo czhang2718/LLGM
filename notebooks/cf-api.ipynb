{
 "cells": [
  {
   "cell_type": "code",
   "execution_count": 1,
   "metadata": {},
   "outputs": [],
   "source": [
    "import requests"
   ]
  },
  {
   "cell_type": "code",
   "execution_count": 2,
   "metadata": {},
   "outputs": [],
   "source": [
    "def fetch_problems():\n",
    "    url = \"https://codeforces.com/api/problemset.problems\"\n",
    "    response = requests.get(url)\n",
    "    response.raise_for_status() \n",
    "    return response.json()\n",
    "\n",
    "def get_problems_sorted_by_submissions():\n",
    "    data = fetch_problems()\n",
    "    problems = data['result']['problems']\n",
    "    problem_stats = data['result']['problemStatistics']\n",
    "\n",
    "    # Combine problem details with their stats\n",
    "    problems_with_stats = []\n",
    "    for problem, stats in zip(problems, problem_stats):\n",
    "        problem_with_stats = {\n",
    "            'name': problem['name'],\n",
    "            'contestId': problem.get('contestId', None),\n",
    "            'index': problem['index'],\n",
    "            'submissions': stats['solvedCount']\n",
    "        }\n",
    "        problems_with_stats.append(problem_with_stats)\n",
    "\n",
    "    # Sort problems by the number of submissions in descending order\n",
    "    problems_sorted = sorted(problems_with_stats, key=lambda x: x['submissions'], reverse=True)\n",
    "    return problems_sorted"
   ]
  },
  {
   "cell_type": "code",
   "execution_count": 4,
   "metadata": {},
   "outputs": [
    {
     "name": "stdout",
     "output_type": "stream",
     "text": [
      "ContestId: 4, Index: A, Name: Watermelon, Submissions: 493730\n",
      "ContestId: 71, Index: A, Name: Way Too Long Words, Submissions: 363157\n",
      "ContestId: 231, Index: A, Name: Team, Submissions: 307141\n",
      "ContestId: 1, Index: A, Name: Theatre Square, Submissions: 250770\n",
      "ContestId: 282, Index: A, Name: Bit++, Submissions: 244419\n",
      "ContestId: 158, Index: A, Name: Next Round, Submissions: 237661\n",
      "ContestId: 50, Index: A, Name: Domino piling, Submissions: 234204\n",
      "ContestId: 263, Index: A, Name: Beautiful Matrix, Submissions: 231245\n",
      "ContestId: 112, Index: A, Name: Petya and Strings, Submissions: 214379\n",
      "ContestId: 339, Index: A, Name: Helpful Maths, Submissions: 203492\n"
     ]
    }
   ],
   "source": [
    "problems_sorted = get_problems_sorted_by_submissions()\n",
    "for problem in problems_sorted[:10]:  # Display top 10 problems\n",
    "    print(f\"ContestId: {problem['contestId']}, Index: {problem['index']}, Name: {problem['name']}, Submissions: {problem['submissions']}\")"
   ]
  }
 ],
 "metadata": {
  "kernelspec": {
   "display_name": "Python 3",
   "language": "python",
   "name": "python3"
  },
  "language_info": {
   "codemirror_mode": {
    "name": "ipython",
    "version": 3
   },
   "file_extension": ".py",
   "mimetype": "text/x-python",
   "name": "python",
   "nbconvert_exporter": "python",
   "pygments_lexer": "ipython3",
   "version": "3.11.2"
  }
 },
 "nbformat": 4,
 "nbformat_minor": 2
}
